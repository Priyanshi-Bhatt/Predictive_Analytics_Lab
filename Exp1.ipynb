{
  "nbformat": 4,
  "nbformat_minor": 0,
  "metadata": {
    "colab": {
      "provenance": []
    },
    "kernelspec": {
      "name": "python3",
      "display_name": "Python 3"
    },
    "language_info": {
      "name": "python"
    }
  },
  "cells": [
    {
      "cell_type": "code",
      "execution_count": 1,
      "metadata": {
        "colab": {
          "base_uri": "https://localhost:8080/"
        },
        "id": "JqE8XNn2HmOl",
        "outputId": "9936f6b1-c349-4b53-f6cd-2f491053476e"
      },
      "outputs": [
        {
          "output_type": "stream",
          "name": "stdout",
          "text": [
            "enter the first number:12\n",
            "enter the second number:3\n",
            "\n",
            "Results of Arithmetic Operations:\n",
            "Addition: 12.0 + 3.0 = 15.0\n",
            "Subtraction: 12.0 - 3.0 = 9.0\n",
            "Multiplication: 12.0 * 3.0 = 36.0\n",
            "Division: 12.0 / 3.0 = 4.0\n",
            "Modulus: 12.0 % 3.0 = 0.0\n"
          ]
        }
      ],
      "source": [
        "\n",
        "# question 1\n",
        "\n",
        "a=float(input(\"enter the first number:\"))\n",
        "b=float(input(\"enter the second number:\"))\n",
        "\n",
        "add=a+b\n",
        "sub=a-b\n",
        "mul=a*b\n",
        "div=a/b if b!=0 else \"undefined\"\n",
        "mod=a%b if b!=0 else \"undefined\"\n",
        "\n",
        "print(\"\\nResults of Arithmetic Operations:\")\n",
        "print(f\"Addition: {a} + {b} = {add}\")\n",
        "print(f\"Subtraction: {a} - {b} = {sub}\")\n",
        "print(f\"Multiplication: {a} * {b} = {mul}\")\n",
        "print(f\"Division: {a} / {b} = {div}\")\n",
        "print(f\"Modulus: {a} % {b} = {mod}\")\n"
      ]
    },
    {
      "cell_type": "code",
      "source": [
        "# question 2\n",
        "\n",
        "integer_var = 200\n",
        "float_var = 78.7\n",
        "string_var1 = \"UPES\"\n",
        "string_var2 = \"Computer Science\"\n",
        "boolean_var1 = True\n",
        "boolean_var2 = False\n",
        "\n",
        "addition = integer_var + float_var\n",
        "subtraction = integer_var - float_var\n",
        "multiplication = integer_var * float_var\n",
        "division = integer_var / float_var\n",
        "\n",
        "concatenated_string = string_var1 + \" \" + string_var2\n",
        "\n",
        "and_operation = boolean_var1 and boolean_var2\n",
        "or_operation = boolean_var1 or boolean_var2\n",
        "not_operation = not boolean_var1\n",
        "\n",
        "print(\"Arithmetic Operations on Numeric Data Types:\")\n",
        "print(f\"Addition: {integer_var} + {float_var} = {addition}\")\n",
        "print(f\"Subtraction: {integer_var} - {float_var} = {subtraction}\")\n",
        "print(f\"Multiplication: {integer_var} * {float_var} = {multiplication}\")\n",
        "print(f\"Division: {integer_var} / {float_var} = {division}\")\n",
        "\n",
        "print(\"\\nString Concatenation:\")\n",
        "print(f\"Concatenated String: {concatenated_string}\")\n",
        "\n",
        "print(\"\\nLogical Operations on Boolean Data Types:\")\n",
        "print(f\"AND Operation: {boolean_var1} and {boolean_var2} = {and_operation}\")\n",
        "print(f\"OR Operation: {boolean_var1} or {boolean_var2} = {or_operation}\")\n",
        "print(f\"NOT Operation: not {boolean_var1} = {not_operation}\")\n"
      ],
      "metadata": {
        "colab": {
          "base_uri": "https://localhost:8080/"
        },
        "id": "ydMSVeU1H4Sg",
        "outputId": "8a24f5a4-5c0f-4f27-c714-35ad840be55f"
      },
      "execution_count": 2,
      "outputs": [
        {
          "output_type": "stream",
          "name": "stdout",
          "text": [
            "Arithmetic Operations on Numeric Data Types:\n",
            "Addition: 200 + 78.7 = 278.7\n",
            "Subtraction: 200 - 78.7 = 121.3\n",
            "Multiplication: 200 * 78.7 = 15740.0\n",
            "Division: 200 / 78.7 = 2.5412960609911055\n",
            "\n",
            "String Concatenation:\n",
            "Concatenated String: UPES Computer Science\n",
            "\n",
            "Logical Operations on Boolean Data Types:\n",
            "AND Operation: True and False = False\n",
            "OR Operation: True or False = True\n",
            "NOT Operation: not True = False\n"
          ]
        }
      ]
    },
    {
      "cell_type": "code",
      "source": [
        "# question 3\n",
        "\n",
        "from datetime import datetime\n",
        "name=input(\"Enter your name\")\n",
        "print(f\"Hello, {name}!\")\n",
        "\n",
        "birth_year = int(input(\"Enter your birth year: \"))\n",
        "current_year = datetime.now().year\n",
        "age = current_year - birth_year\n",
        "\n",
        "print(f\"{name} is {age} years old.\")"
      ],
      "metadata": {
        "colab": {
          "base_uri": "https://localhost:8080/"
        },
        "id": "U-IS8bQnH5VD",
        "outputId": "a2d415d8-1301-45e8-a26f-d4accfcc7c88"
      },
      "execution_count": 3,
      "outputs": [
        {
          "output_type": "stream",
          "name": "stdout",
          "text": [
            "Enter your namePriyanshi\n",
            "Hello, Priyanshi!\n",
            "Enter your birth year: 2005\n",
            "Priyanshi is 19 years old.\n"
          ]
        }
      ]
    },
    {
      "cell_type": "code",
      "source": [
        "# question 4\n",
        "\n",
        "number = int(input(\"Enter a number: \"))\n",
        "\n",
        "if number % 2 == 0:\n",
        "    print(f\"The number {number} is even.\")\n",
        "else:\n",
        "    print(f\"The number {number} is odd.\")\n"
      ],
      "metadata": {
        "colab": {
          "base_uri": "https://localhost:8080/"
        },
        "id": "BwofpPjIIFgP",
        "outputId": "f7b4bf3b-094e-4a8c-af03-f180fa8b1ac1"
      },
      "execution_count": 4,
      "outputs": [
        {
          "output_type": "stream",
          "name": "stdout",
          "text": [
            "Enter a number: 109\n",
            "The number 109 is odd.\n"
          ]
        }
      ]
    },
    {
      "cell_type": "code",
      "source": [
        "# question 5\n",
        "\n",
        "# Using a for loop to print numbers from 1 to 10\n",
        "print(\"Using for loop:\")\n",
        "for i in range(1, 11):\n",
        "    print(i)\n",
        "\n",
        "# Using a while loop with a counter variable to print numbers from 1 to 10\n",
        "print(\"\\nUsing while loop:\")\n",
        "counter = 1\n",
        "while counter <= 10:\n",
        "    print(counter)\n",
        "    counter += 1"
      ],
      "metadata": {
        "colab": {
          "base_uri": "https://localhost:8080/"
        },
        "id": "WMhqRZ6qIL29",
        "outputId": "df2ec17b-b8a3-4230-b4a8-b5a71bff68a5"
      },
      "execution_count": 5,
      "outputs": [
        {
          "output_type": "stream",
          "name": "stdout",
          "text": [
            "Using for loop:\n",
            "1\n",
            "2\n",
            "3\n",
            "4\n",
            "5\n",
            "6\n",
            "7\n",
            "8\n",
            "9\n",
            "10\n",
            "\n",
            "Using while loop:\n",
            "1\n",
            "2\n",
            "3\n",
            "4\n",
            "5\n",
            "6\n",
            "7\n",
            "8\n",
            "9\n",
            "10\n"
          ]
        }
      ]
    },
    {
      "cell_type": "code",
      "source": [
        "# question 6\n",
        "# Create a list of fruits\n",
        "fruits = [\"Apple\", \"Banana\", \"Cherry\", \"Date\", \"Elderberry\"]\n",
        "\n",
        "# Access elements using indexing\n",
        "print(\"Accessing elements using indexing:\")\n",
        "print(f\"First fruit: {fruits[0]}\")\n",
        "print(f\"Last fruit: {fruits[-1]}\")\n",
        "\n",
        "# Modify elements in the list\n",
        "fruits[1] = \"Blueberry\"\n",
        "print(\"\\nAfter modifying the second element:\")\n",
        "print(fruits)\n",
        "\n",
        "# Add elements to the list\n",
        "fruits.append(\"Fig\")\n",
        "print(\"\\nAfter adding an element:\")\n",
        "print(fruits)\n",
        "\n",
        "# Remove elements from the list\n",
        "fruits.remove(\"Date\")\n",
        "print(\"\\nAfter removing an element:\")\n",
        "print(fruits)\n",
        "\n",
        "# Find the length of the list\n",
        "length = len(fruits)\n",
        "print(f\"\\nLength of the list: {length}\")\n",
        "\n",
        "# Sort the list in ascending order\n",
        "fruits.sort()\n",
        "print(\"\\nList sorted in ascending order:\")\n",
        "print(fruits)\n",
        "\n",
        "# Sort the list in descending order\n",
        "fruits.sort(reverse=True)\n",
        "print(\"\\nList sorted in descending order:\")\n",
        "print(fruits)"
      ],
      "metadata": {
        "colab": {
          "base_uri": "https://localhost:8080/"
        },
        "id": "rK9X_1kuIQAU",
        "outputId": "902eace9-5fe2-4d29-8b04-222d44055738"
      },
      "execution_count": 6,
      "outputs": [
        {
          "output_type": "stream",
          "name": "stdout",
          "text": [
            "Accessing elements using indexing:\n",
            "First fruit: Apple\n",
            "Last fruit: Elderberry\n",
            "\n",
            "After modifying the second element:\n",
            "['Apple', 'Blueberry', 'Cherry', 'Date', 'Elderberry']\n",
            "\n",
            "After adding an element:\n",
            "['Apple', 'Blueberry', 'Cherry', 'Date', 'Elderberry', 'Fig']\n",
            "\n",
            "After removing an element:\n",
            "['Apple', 'Blueberry', 'Cherry', 'Elderberry', 'Fig']\n",
            "\n",
            "Length of the list: 5\n",
            "\n",
            "List sorted in ascending order:\n",
            "['Apple', 'Blueberry', 'Cherry', 'Elderberry', 'Fig']\n",
            "\n",
            "List sorted in descending order:\n",
            "['Fig', 'Elderberry', 'Cherry', 'Blueberry', 'Apple']\n"
          ]
        }
      ]
    },
    {
      "cell_type": "code",
      "source": [
        "# question 7\n",
        "\n",
        "# Create a string variable\n",
        "my_string = \"Hello, World! Welcome to Python programming.\"\n",
        "\n",
        "# Find the length of the string\n",
        "length = len(my_string)\n",
        "print(f\"Length of the string: {length}\")\n",
        "\n",
        "# Convert the string to uppercase\n",
        "uppercase_string = my_string.upper()\n",
        "print(f\"String in uppercase: {uppercase_string}\")\n",
        "\n",
        "# Convert the string to lowercase\n",
        "lowercase_string = my_string.lower()\n",
        "print(f\"String in lowercase: {lowercase_string}\")\n",
        "\n",
        "# Check if a substring exists in the string\n",
        "substring = \"Python\"\n",
        "if substring in my_string:\n",
        "    print(f\"The substring '{substring}' exists in the string.\")\n",
        "else:\n",
        "    print(f\"The substring '{substring}' does not exist in the string.\")\n",
        "\n",
        "# Split the string into a list of words\n",
        "words_list = my_string.split()\n",
        "print(f\"List of words: {words_list}\")\n",
        "\n"
      ],
      "metadata": {
        "colab": {
          "base_uri": "https://localhost:8080/"
        },
        "id": "XnamIosAIb5I",
        "outputId": "396935fc-7286-444b-f18d-16b4902fc8e2"
      },
      "execution_count": 7,
      "outputs": [
        {
          "output_type": "stream",
          "name": "stdout",
          "text": [
            "Length of the string: 44\n",
            "String in uppercase: HELLO, WORLD! WELCOME TO PYTHON PROGRAMMING.\n",
            "String in lowercase: hello, world! welcome to python programming.\n",
            "The substring 'Python' exists in the string.\n",
            "List of words: ['Hello,', 'World!', 'Welcome', 'to', 'Python', 'programming.']\n"
          ]
        }
      ]
    },
    {
      "cell_type": "code",
      "source": [
        "# question 8\n",
        "\n",
        "# Create a list of numbers\n",
        "numbers = [25, 68, 12, 89, 45, 37, 77, 54]\n",
        "\n",
        "# Find the largest number in the list\n",
        "largest = max(numbers)\n",
        "\n",
        "# Find the smallest number in the list\n",
        "smallest = min(numbers)\n",
        "\n",
        "# Print the results\n",
        "print(f\"The largest number in the list is: {largest}\")\n",
        "print(f\"The smallest number in the list is: {smallest}\")\n",
        "\n"
      ],
      "metadata": {
        "colab": {
          "base_uri": "https://localhost:8080/"
        },
        "id": "XbP5AGdCIftY",
        "outputId": "d0d405ab-11e7-440b-92a7-1f60cc05826e"
      },
      "execution_count": 8,
      "outputs": [
        {
          "output_type": "stream",
          "name": "stdout",
          "text": [
            "The largest number in the list is: 89\n",
            "The smallest number in the list is: 12\n"
          ]
        }
      ]
    }
  ]
}